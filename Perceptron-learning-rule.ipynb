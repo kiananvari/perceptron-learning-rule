{
 "cells": [
  {
   "cell_type": "code",
   "execution_count": 1,
   "id": "91641f1f",
   "metadata": {},
   "outputs": [],
   "source": [
    "from sklearn import datasets\n",
    "import numpy as np\n",
    "import matplotlib.pyplot as plt\n",
    "\n",
    "\n",
    "iris = datasets.load_iris()\n",
    "inputs = iris.data[:,2:4]\n",
    "labels = iris.target\n"
   ]
  },
  {
   "cell_type": "code",
   "execution_count": 2,
   "id": "5f18ad94",
   "metadata": {},
   "outputs": [],
   "source": [
    "for index in range(len(labels)):\n",
    "    \n",
    "    if labels[index] == 0:\n",
    "        pass\n",
    "    else :\n",
    "        labels[index] = 1\n",
    "    "
   ]
  },
  {
   "cell_type": "code",
   "execution_count": 3,
   "id": "d36ee315",
   "metadata": {},
   "outputs": [
    {
     "name": "stdout",
     "output_type": "stream",
     "text": [
      "[[1.4 0.2 0. ]\n",
      " [1.4 0.2 0. ]\n",
      " [1.3 0.2 0. ]\n",
      " [1.5 0.2 0. ]\n",
      " [1.4 0.2 0. ]\n",
      " [1.7 0.4 0. ]\n",
      " [1.4 0.3 0. ]\n",
      " [1.5 0.2 0. ]\n",
      " [1.4 0.2 0. ]\n",
      " [1.5 0.1 0. ]\n",
      " [1.5 0.2 0. ]\n",
      " [1.6 0.2 0. ]\n",
      " [1.4 0.1 0. ]\n",
      " [1.1 0.1 0. ]\n",
      " [1.2 0.2 0. ]\n",
      " [1.5 0.4 0. ]\n",
      " [1.3 0.4 0. ]\n",
      " [1.4 0.3 0. ]\n",
      " [1.7 0.3 0. ]\n",
      " [1.5 0.3 0. ]\n",
      " [1.7 0.2 0. ]\n",
      " [1.5 0.4 0. ]\n",
      " [1.  0.2 0. ]\n",
      " [1.7 0.5 0. ]\n",
      " [1.9 0.2 0. ]\n",
      " [1.6 0.2 0. ]\n",
      " [1.6 0.4 0. ]\n",
      " [1.5 0.2 0. ]\n",
      " [1.4 0.2 0. ]\n",
      " [1.6 0.2 0. ]\n",
      " [1.6 0.2 0. ]\n",
      " [1.5 0.4 0. ]\n",
      " [1.5 0.1 0. ]\n",
      " [1.4 0.2 0. ]\n",
      " [1.5 0.2 0. ]\n",
      " [1.2 0.2 0. ]\n",
      " [1.3 0.2 0. ]\n",
      " [1.4 0.1 0. ]\n",
      " [1.3 0.2 0. ]\n",
      " [1.5 0.2 0. ]\n",
      " [1.3 0.3 0. ]\n",
      " [1.3 0.3 0. ]\n",
      " [1.3 0.2 0. ]\n",
      " [1.6 0.6 0. ]\n",
      " [1.9 0.4 0. ]\n",
      " [1.4 0.3 0. ]\n",
      " [1.6 0.2 0. ]\n",
      " [1.4 0.2 0. ]\n",
      " [1.5 0.2 0. ]\n",
      " [1.4 0.2 0. ]\n",
      " [4.7 1.4 1. ]\n",
      " [4.5 1.5 1. ]\n",
      " [4.9 1.5 1. ]\n",
      " [4.  1.3 1. ]\n",
      " [4.6 1.5 1. ]\n",
      " [4.5 1.3 1. ]\n",
      " [4.7 1.6 1. ]\n",
      " [3.3 1.  1. ]\n",
      " [4.6 1.3 1. ]\n",
      " [3.9 1.4 1. ]\n",
      " [3.5 1.  1. ]\n",
      " [4.2 1.5 1. ]\n",
      " [4.  1.  1. ]\n",
      " [4.7 1.4 1. ]\n",
      " [3.6 1.3 1. ]\n",
      " [4.4 1.4 1. ]\n",
      " [4.5 1.5 1. ]\n",
      " [4.1 1.  1. ]\n",
      " [4.5 1.5 1. ]\n",
      " [3.9 1.1 1. ]\n",
      " [4.8 1.8 1. ]\n",
      " [4.  1.3 1. ]\n",
      " [4.9 1.5 1. ]\n",
      " [4.7 1.2 1. ]\n",
      " [4.3 1.3 1. ]\n",
      " [4.4 1.4 1. ]\n",
      " [4.8 1.4 1. ]\n",
      " [5.  1.7 1. ]\n",
      " [4.5 1.5 1. ]\n",
      " [3.5 1.  1. ]\n",
      " [3.8 1.1 1. ]\n",
      " [3.7 1.  1. ]\n",
      " [3.9 1.2 1. ]\n",
      " [5.1 1.6 1. ]\n",
      " [4.5 1.5 1. ]\n",
      " [4.5 1.6 1. ]\n",
      " [4.7 1.5 1. ]\n",
      " [4.4 1.3 1. ]\n",
      " [4.1 1.3 1. ]\n",
      " [4.  1.3 1. ]\n",
      " [4.4 1.2 1. ]\n",
      " [4.6 1.4 1. ]\n",
      " [4.  1.2 1. ]\n",
      " [3.3 1.  1. ]\n",
      " [4.2 1.3 1. ]\n",
      " [4.2 1.2 1. ]\n",
      " [4.2 1.3 1. ]\n",
      " [4.3 1.3 1. ]\n",
      " [3.  1.1 1. ]\n",
      " [4.1 1.3 1. ]\n",
      " [6.  2.5 1. ]\n",
      " [5.1 1.9 1. ]\n",
      " [5.9 2.1 1. ]\n",
      " [5.6 1.8 1. ]\n",
      " [5.8 2.2 1. ]\n",
      " [6.6 2.1 1. ]\n",
      " [4.5 1.7 1. ]\n",
      " [6.3 1.8 1. ]\n",
      " [5.8 1.8 1. ]\n",
      " [6.1 2.5 1. ]\n",
      " [5.1 2.  1. ]\n",
      " [5.3 1.9 1. ]\n",
      " [5.5 2.1 1. ]\n",
      " [5.  2.  1. ]\n",
      " [5.1 2.4 1. ]\n",
      " [5.3 2.3 1. ]\n",
      " [5.5 1.8 1. ]\n",
      " [6.7 2.2 1. ]\n",
      " [6.9 2.3 1. ]\n",
      " [5.  1.5 1. ]\n",
      " [5.7 2.3 1. ]\n",
      " [4.9 2.  1. ]\n",
      " [6.7 2.  1. ]\n",
      " [4.9 1.8 1. ]\n",
      " [5.7 2.1 1. ]\n",
      " [6.  1.8 1. ]\n",
      " [4.8 1.8 1. ]\n",
      " [4.9 1.8 1. ]\n",
      " [5.6 2.1 1. ]\n",
      " [5.8 1.6 1. ]\n",
      " [6.1 1.9 1. ]\n",
      " [6.4 2.  1. ]\n",
      " [5.6 2.2 1. ]\n",
      " [5.1 1.5 1. ]\n",
      " [5.6 1.4 1. ]\n",
      " [6.1 2.3 1. ]\n",
      " [5.6 2.4 1. ]\n",
      " [5.5 1.8 1. ]\n",
      " [4.8 1.8 1. ]\n",
      " [5.4 2.1 1. ]\n",
      " [5.6 2.4 1. ]\n",
      " [5.1 2.3 1. ]\n",
      " [5.1 1.9 1. ]\n",
      " [5.9 2.3 1. ]\n",
      " [5.7 2.5 1. ]\n",
      " [5.2 2.3 1. ]\n",
      " [5.  1.9 1. ]\n",
      " [5.2 2.  1. ]\n",
      " [5.4 2.3 1. ]\n",
      " [5.1 1.8 1. ]]\n"
     ]
    }
   ],
   "source": [
    "inputs = np.array(inputs)\n",
    "labels = np.array(labels)\n",
    "labels = labels.reshape(150,1)\n",
    "\n",
    "dataset = np.append(inputs, labels, axis=1)\n",
    "\n",
    "print(dataset)"
   ]
  },
  {
   "cell_type": "code",
   "execution_count": 4,
   "id": "f29275d3",
   "metadata": {},
   "outputs": [
    {
     "data": {
      "image/png": "[encoded data removed]",
      "text/plain": [
       "<Figure size 640x480 with 1 Axes>"
      ]
     },
     "metadata": {},
     "output_type": "display_data"
    }
   ],
   "source": [
    "plt.scatter(\n",
    "            \n",
    "                dataset[:,0][dataset[...,2]==0],\n",
    "                dataset[:,1][dataset[...,2]==0],\n",
    "                marker = \"D\",\n",
    "                color = \"Black\",\n",
    "                label = \"Setosa\"\n",
    "\n",
    ")\n",
    "\n",
    "plt.scatter(\n",
    "            \n",
    "                dataset[:,0][dataset[...,2]==1],\n",
    "                dataset[:,1][dataset[...,2]==1],\n",
    "                marker = \"o\",\n",
    "                color = \"Red\",\n",
    "                label = \"etc\"\n",
    ")\n",
    "\n",
    "\n",
    "\n",
    "plt.xlabel('Sepal Length (cm)')\n",
    "plt.ylabel('Sepal Width (cm)')\n",
    "plt.legend()\n",
    "plt.show()"
   ]
  },
  {
   "cell_type": "code",
   "execution_count": 5,
   "id": "d148df4e",
   "metadata": {},
   "outputs": [],
   "source": [
    "def set_weights(n):\n",
    "\n",
    "    weights = np.random.randn(3, n)\n",
    "    return weights"
   ]
  },
  {
   "cell_type": "code",
   "execution_count": 6,
   "id": "67ade842",
   "metadata": {},
   "outputs": [],
   "source": [
    "def calculate_r(label, y):\n",
    "    \n",
    "    return label - y\n"
   ]
  },
  {
   "cell_type": "code",
   "execution_count": 7,
   "id": "9f089d82",
   "metadata": {},
   "outputs": [],
   "source": [
    "def calculate_output(inputs,weights):\n",
    "\n",
    "    net = np.dot(weights.T,inputs)\n",
    "    return np.heaviside(net,1)"
   ]
  },
  {
   "cell_type": "code",
   "execution_count": 8,
   "id": "13f62ff9",
   "metadata": {},
   "outputs": [],
   "source": [
    "def update_weights(inputs, weights, label, y):\n",
    "    \n",
    "    delta_W = calculate_r(label, y) * inputs\n",
    "    \n",
    "    weights = weights + delta_W\n",
    "    \n",
    "    return weights"
   ]
  },
  {
   "cell_type": "code",
   "execution_count": 18,
   "id": "988e127a",
   "metadata": {},
   "outputs": [],
   "source": [
    "n = 1\n",
    "weights = set_weights(n)\n",
    "epochs = 8\n",
    "errors = []\n",
    "for i in range(epochs):\n",
    "    for index in range(len(inputs)):\n",
    "        \n",
    "        input_train = np.append(np.ones(1),inputs[index])\n",
    "        input_train = input_train.reshape(3,1)\n",
    "        output = calculate_output(input_train,weights)\n",
    "        error = 0\n",
    "        weights = update_weights(input_train, weights, labels[index], output)\n",
    "        \n",
    "        for j in range(len(inputs)):\n",
    "            \n",
    "            input_train = np.append(np.ones(1),inputs[j])\n",
    "            input_train = input_train.reshape(3,1)\n",
    "            output = calculate_output(input_train,weights)\n",
    "            error += (labels[j][0]-output[0][0])**2\n",
    "            \n",
    "        errors.append(error)\n",
    "            "
   ]
  },
  {
   "cell_type": "code",
   "execution_count": 19,
   "id": "d484c065",
   "metadata": {},
   "outputs": [
    {
     "data": {
      "image/png": "[encoded data removed]",
      "text/plain": [
       "<Figure size 640x480 with 1 Axes>"
      ]
     },
     "metadata": {},
     "output_type": "display_data"
    }
   ],
   "source": [
    "index = []\n",
    "\n",
    "for i in range(0,150*epochs):\n",
    "    index.append(i)\n",
    "    \n",
    "    \n",
    "plt.plot(index,errors)\n",
    "plt.show()"
   ]
  },
  {
   "cell_type": "code",
   "execution_count": 11,
   "id": "3269c69e",
   "metadata": {},
   "outputs": [
    {
     "name": "stdout",
     "output_type": "stream",
     "text": [
      "[[-4.83750957]\n",
      " [ 1.82452222]\n",
      " [ 1.42889695]]\n"
     ]
    }
   ],
   "source": [
    "print(weights)"
   ]
  },
  {
   "cell_type": "code",
   "execution_count": 12,
   "id": "c9d88fa7",
   "metadata": {},
   "outputs": [
    {
     "data": {
      "image/png": "[encoded data removed]",
      "text/plain": [
       "<Figure size 640x480 with 1 Axes>"
      ]
     },
     "metadata": {},
     "output_type": "display_data"
    }
   ],
   "source": [
    "plt.scatter(\n",
    "            \n",
    "                dataset[:,0][dataset[...,2]==0],\n",
    "                dataset[:,1][dataset[...,2]==0],\n",
    "                marker = \"D\",\n",
    "                color = \"Black\",\n",
    "                label = \"Setosa\"\n",
    "\n",
    ")\n",
    "\n",
    "plt.scatter(\n",
    "            \n",
    "                dataset[:,0][dataset[...,2]==1],\n",
    "                dataset[:,1][dataset[...,2]==1],\n",
    "                marker = \"o\",\n",
    "                color = \"Red\",\n",
    "                label = \"etc\"\n",
    ")\n",
    "\n",
    "\n",
    "# x0W0 + x1W1 + x2W2 = 0\n",
    "x1 = [min(inputs[:,0]), max(inputs[:,0])]\n",
    "m = -weights[1]/weights[2]\n",
    "c = -weights[0]/weights[2]\n",
    "x2 = m*x1 + c\n",
    "\n",
    "plt.plot(x1, x2)\n",
    "plt.xlabel('Sepal Length (cm)')\n",
    "plt.ylabel('Sepal Width (cm)')\n",
    "plt.legend()\n",
    "plt.xlim([0, 7.2])\n",
    "plt.ylim([-0.5, 3])\n",
    "\n",
    "plt.show()"
   ]
  },
  {
   "cell_type": "code",
   "execution_count": null,
   "id": "a81a783f",
   "metadata": {},
   "outputs": [],
   "source": []
  }
 ],
 "metadata": {
  "kernelspec": {
   "display_name": "Python 3 (ipykernel)",
   "language": "python",
   "name": "python3"
  },
  "language_info": {
   "codemirror_mode": {
    "name": "ipython",
    "version": 3
   },
   "file_extension": ".py",
   "mimetype": "text/x-python",
   "name": "python",
   "nbconvert_exporter": "python",
   "pygments_lexer": "ipython3",
   "version": "3.9.13"
  }
 },
 "nbformat": 4,
 "nbformat_minor": 5
}
